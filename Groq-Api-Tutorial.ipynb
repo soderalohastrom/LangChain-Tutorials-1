{
  "cells": [
    {
      "cell_type": "markdown",
      "metadata": {
        "colab_type": "text",
        "id": "view-in-github"
      },
      "source": [
        "<a href=\"https://colab.research.google.com/github/TirendazAcademy/LangChain-Tutorials/blob/main/groq_api_tutorial.ipynb\" target=\"_parent\"><img src=\"https://colab.research.google.com/assets/colab-badge.svg\" alt=\"Open In Colab\"/></a>"
      ]
    },
    {
      "cell_type": "code",
      "execution_count": 1,
      "metadata": {
        "id": "d_pvDMrgq0IP"
      },
      "outputs": [
        {
          "name": "stdout",
          "output_type": "stream",
          "text": [
            "\u001b[31mERROR: pip's dependency resolver does not currently take into account all the packages that are installed. This behaviour is the source of the following dependency conflicts.\n",
            "instructor 0.5.2 requires aiohttp<4.0.0,>=3.9.1, but you have aiohttp 3.8.5 which is incompatible.\n",
            "instructor 0.5.2 requires openai<2.0.0,>=1.1.0, but you have openai 0.27.8 which is incompatible.\n",
            "chromadb 0.3.29 requires fastapi==0.85.1, but you have fastapi 0.103.1 which is incompatible.\n",
            "chromadb 0.3.29 requires pydantic<2.0,>=1.9, but you have pydantic 2.6.3 which is incompatible.\n",
            "chainlit 0.6.402 requires fastapi<0.100.0,>=0.99.0, but you have fastapi 0.103.1 which is incompatible.\n",
            "chainlit 0.6.402 requires pydantic<2.0.0,>=1.10.8, but you have pydantic 2.6.3 which is incompatible.\n",
            "datasets 2.17.1 requires fsspec[http]<=2023.10.0,>=2023.1.0, but you have fsspec 2024.2.0 which is incompatible.\n",
            "crewai 0.16.3 requires langchain-openai<0.0.6,>=0.0.5, but you have langchain-openai 0.0.6 which is incompatible.\n",
            "crewai 0.16.3 requires openai<2.0.0,>=1.7.1, but you have openai 0.27.8 which is incompatible.\n",
            "langchain-openai 0.0.6 requires openai<2.0.0,>=1.10.0, but you have openai 0.27.8 which is incompatible.\n",
            "langchain-openai 0.0.6 requires tiktoken<1,>=0.5.2, but you have tiktoken 0.5.1 which is incompatible.\n",
            "langchain-cli 0.0.21 requires tomlkit<0.13.0,>=0.12.2, but you have tomlkit 0.12.0 which is incompatible.\n",
            "sql-chain-playground 0.1.0 requires langchain<0.0.248,>=0.0.247, but you have langchain 0.1.11 which is incompatible.\n",
            "hqq 0.1.3 requires numpy>=1.24.4, but you have numpy 1.24.0 which is incompatible.\n",
            "notional 0.8.0 requires pydantic<2.0.0,>=1.10.7, but you have pydantic 2.6.3 which is incompatible.\n",
            "onnxruntime 1.17.1 requires numpy>=1.24.2, but you have numpy 1.24.0 which is incompatible.\u001b[0m\u001b[31m\n",
            "\u001b[0m"
          ]
        }
      ],
      "source": [
        "!pip install -q -U langchain langchain_core langchain_groq gradio"
      ]
    },
    {
      "cell_type": "code",
      "execution_count": 2,
      "metadata": {
        "id": "1BBWBEFc0G9J"
      },
      "outputs": [
        {
          "ename": "ModuleNotFoundError",
          "evalue": "No module named 'google'",
          "output_type": "error",
          "traceback": [
            "\u001b[0;31m---------------------------------------------------------------------------\u001b[0m",
            "\u001b[0;31mModuleNotFoundError\u001b[0m                       Traceback (most recent call last)",
            "Cell \u001b[0;32mIn[2], line 1\u001b[0m\n\u001b[0;32m----> 1\u001b[0m \u001b[38;5;28;01mfrom\u001b[39;00m \u001b[38;5;21;01mgoogle\u001b[39;00m\u001b[38;5;21;01m.\u001b[39;00m\u001b[38;5;21;01mcolab\u001b[39;00m \u001b[38;5;28;01mimport\u001b[39;00m userdata\n\u001b[1;32m      2\u001b[0m groq_api_key \u001b[38;5;241m=\u001b[39m userdata\u001b[38;5;241m.\u001b[39mget(\u001b[38;5;124m'\u001b[39m\u001b[38;5;124mGROQ_API_KEY\u001b[39m\u001b[38;5;124m'\u001b[39m)\n",
            "\u001b[0;31mModuleNotFoundError\u001b[0m: No module named 'google'"
          ]
        }
      ],
      "source": [
        "from google.colab import userdata\n",
        "groq_api_key = userdata.get('GROQ_API_KEY')"
      ]
    },
    {
      "cell_type": "code",
      "execution_count": 3,
      "metadata": {
        "id": "vPfbfzOC1qE8"
      },
      "outputs": [],
      "source": [
        "from langchain_groq import ChatGroq\n",
        "\n",
        "chat = ChatGroq(\n",
        "    api_key = groq_api_key,\n",
        "    model_name = \"mixtral-8x7b-32768\"\n",
        ")"
      ]
    },
    {
      "cell_type": "code",
      "execution_count": 4,
      "metadata": {
        "id": "3VIDCzMm3Yh3"
      },
      "outputs": [],
      "source": [
        "from langchain_core.prompts import ChatPromptTemplate\n",
        "\n",
        "system = \"You are a helpful assistant.\"\n",
        "human = \"{text}\"\n",
        "\n",
        "prompt = ChatPromptTemplate.from_messages(\n",
        "    [\n",
        "        (\"system\", system), (\"human\", human)\n",
        "    ]\n",
        ")"
      ]
    },
    {
      "cell_type": "code",
      "execution_count": 5,
      "metadata": {
        "id": "4PajMIZS3w3B"
      },
      "outputs": [],
      "source": [
        "from langchain_core.output_parsers import StrOutputParser"
      ]
    },
    {
      "cell_type": "code",
      "execution_count": 6,
      "metadata": {
        "id": "VtpYCfMW35Wr"
      },
      "outputs": [],
      "source": [
        "chain = prompt | chat | StrOutputParser()"
      ]
    },
    {
      "cell_type": "code",
      "execution_count": 7,
      "metadata": {
        "colab": {
          "base_uri": "https://localhost:8080/",
          "height": 106
        },
        "id": "Q_r5ofV04adl",
        "outputId": "cc029596-a6ea-4126-ebfc-5134b27e21fa"
      },
      "outputs": [
        {
          "data": {
            "application/vnd.google.colaboratory.intrinsic+json": {
              "type": "string"
            },
            "text/plain": [
              "\"The phenomenon that causes the sky to appear blue is known as Rayleigh scattering. As sunlight reaches Earth's atmosphere, it is made up of different colors, which are essentially different wavelengths of light. Shorter wavelengths (like blue and violet) are scattered in all directions more than longer wavelengths (like red, orange, and yellow).\\n\\nEven though violet light is scattered more than blue light, the sky appears blue, not violet, because our eyes are more sensitive to blue light and because sunlight reaches us more at the blue part of the spectrum, rather than the violet part. Additionally, some of the violet light gets absorbed by the ozone layer in the atmosphere. This combination results in the sky we typically observe as blue.\""
            ]
          },
          "execution_count": 7,
          "metadata": {},
          "output_type": "execute_result"
        }
      ],
      "source": [
        "chain.invoke(\n",
        "    {\"text\":\"Why is the sky blue?\"}\n",
        ")"
      ]
    },
    {
      "cell_type": "code",
      "execution_count": 8,
      "metadata": {
        "id": "xJFwzG9p4fDK"
      },
      "outputs": [],
      "source": [
        "import gradio as gr"
      ]
    },
    {
      "cell_type": "code",
      "execution_count": 9,
      "metadata": {
        "id": "cgf7Uvaw5wfg"
      },
      "outputs": [],
      "source": [
        "def fetch_response(user_input):\n",
        "  chat = ChatGroq(\n",
        "    api_key = groq_api_key,\n",
        "    model_name = \"mixtral-8x7b-32768\"\n",
        "  )\n",
        "  system = \"You are a helpful assistant.\"\n",
        "  human = \"{text}\"\n",
        "\n",
        "  prompt = ChatPromptTemplate.from_messages(\n",
        "      [\n",
        "          (\"system\", system), (\"human\", human)\n",
        "      ]\n",
        "  )\n",
        "  chain = prompt | chat | StrOutputParser()\n",
        "  output = chain.invoke({\"text\": user_input})\n",
        "  return output"
      ]
    },
    {
      "cell_type": "code",
      "execution_count": 10,
      "metadata": {
        "colab": {
          "base_uri": "https://localhost:8080/",
          "height": 106
        },
        "id": "UYPZSCJW6sNE",
        "outputId": "da48cc76-0925-4aa1-806a-0877328dafef"
      },
      "outputs": [
        {
          "data": {
            "application/vnd.google.colaboratory.intrinsic+json": {
              "type": "string"
            },
            "text/plain": [
              "\"The phenomenon that causes the sky to appear blue is known as Rayleigh scattering. As sunlight reaches Earth's atmosphere, it is made up of different colors, which are represented in the light spectrum as having different wavelengths. Blue and violet light have the shortest wavelengths and are scattered in all directions by the gas molecules in Earth's atmosphere. \\n\\nThis scattered blue and violet light reaches our eyes from all directions, giving the sky its blue appearance. You might wonder why we don't see a violet sky, given that violet light is scattered more than blue light. This is because our eyes are more sensitive to blue light and because sunlight reaches us with less violet light to begin with. Additionally, some of the violet light gets absorbed by the ozone layer in the atmosphere. Therefore, the sky appears blue to us during the daytime.\""
            ]
          },
          "execution_count": 10,
          "metadata": {},
          "output_type": "execute_result"
        }
      ],
      "source": [
        "user_input = \"Why is the sky blue?\"\n",
        "\n",
        "fetch_response(user_input)"
      ]
    },
    {
      "cell_type": "code",
      "execution_count": 11,
      "metadata": {
        "id": "sSmvFUjL67SK"
      },
      "outputs": [],
      "source": [
        "iface = gr.Interface(\n",
        "    fn = fetch_response,\n",
        "    inputs = \"text\",\n",
        "    outputs = \"text\",\n",
        "    title = \"Groq Chatbot\",\n",
        "    description=\"Ask a question and get a response.\"\n",
        ")"
      ]
    },
    {
      "cell_type": "code",
      "execution_count": 12,
      "metadata": {
        "colab": {
          "base_uri": "https://localhost:8080/",
          "height": 627
        },
        "id": "Y0JVF_zB7fl8",
        "outputId": "7aeccd71-31de-4853-b5db-3923a79913af"
      },
      "outputs": [
        {
          "name": "stdout",
          "output_type": "stream",
          "text": [
            "Setting queue=True in a Colab notebook requires sharing enabled. Setting `share=True` (you can turn this off by setting `share=False` in `launch()` explicitly).\n",
            "\n",
            "Colab notebook detected. To show errors in colab notebook, set debug=True in launch()\n",
            "Running on public URL: https://ba64a37776f78dbb6a.gradio.live\n",
            "\n",
            "This share link expires in 72 hours. For free permanent hosting and GPU upgrades, run `gradio deploy` from Terminal to deploy to Spaces (https://huggingface.co/spaces)\n"
          ]
        },
        {
          "data": {
            "text/html": [
              "<div><iframe src=\"https://ba64a37776f78dbb6a.gradio.live\" width=\"100%\" height=\"500\" allow=\"autoplay; camera; microphone; clipboard-read; clipboard-write;\" frameborder=\"0\" allowfullscreen></iframe></div>"
            ],
            "text/plain": [
              "<IPython.core.display.HTML object>"
            ]
          },
          "metadata": {},
          "output_type": "display_data"
        },
        {
          "data": {
            "text/plain": []
          },
          "execution_count": 12,
          "metadata": {},
          "output_type": "execute_result"
        }
      ],
      "source": [
        "iface.launch()"
      ]
    },
    {
      "cell_type": "markdown",
      "metadata": {
        "id": "y08h2aQU--Ya"
      },
      "source": [
        "Let's connect [YouTube](http://youtube.com/tirendazacademy) | [Medium](http://tirendazacademy.medium.com) | [X](http://x.com/tirendazacademy) | [Linkedin](https://www.linkedin.com/in/tirendaz-academy) 😎"
      ]
    }
  ],
  "metadata": {
    "colab": {
      "authorship_tag": "ABX9TyNVTMWvymnGFZoDSgRjd6ZQ",
      "include_colab_link": true,
      "provenance": []
    },
    "kernelspec": {
      "display_name": "Python 3",
      "name": "python3"
    },
    "language_info": {
      "codemirror_mode": {
        "name": "ipython",
        "version": 3
      },
      "file_extension": ".py",
      "mimetype": "text/x-python",
      "name": "python",
      "nbconvert_exporter": "python",
      "pygments_lexer": "ipython3",
      "version": "3.12.2"
    }
  },
  "nbformat": 4,
  "nbformat_minor": 0
}
